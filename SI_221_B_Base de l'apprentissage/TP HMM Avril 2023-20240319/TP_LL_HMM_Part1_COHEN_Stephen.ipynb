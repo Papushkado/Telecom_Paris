{
 "cells": [
  {
   "cell_type": "markdown",
   "metadata": {},
   "source": [
    "## Partie Chaine de Markov (Part 1)\n",
    "## fichier a completer par les etudiant.es\n",
    "## L. Likforman"
   ]
  },
  {
   "cell_type": "code",
   "execution_count": 56,
   "metadata": {},
   "outputs": [
    {
     "name": "stdout",
     "output_type": "stream",
     "text": [
      "28\n",
      "28\n",
      "28\n"
     ]
    }
   ],
   "source": [
    "import numpy as np \n",
    "%matplotlib inline\n",
    "import matplotlib.pyplot as plt\n",
    "\n",
    "filename_A='bigramenglish.txt'\n",
    "A=np.loadtxt(filename_A)\n",
    "print(len(A))\n",
    "filename_F='bigramfrancais.txt'\n",
    "F=np.loadtxt(filename_F)\n",
    "print(len(F))\n",
    "dic={'1' : ' ', '2' : 'a', '3' : 'b', '4': 'c', '5' : 'd', '6' : 'e', '7': 'f', '8' : 'g', '9' : 'h', '10': 'i', '11': 'j',\n",
    "'12' : 'k', '13' : 'l', '14': 'm', '15' : 'n', '16' : 'o', '17': 'p', '18' : 'q', '19' : 'r' , '20': 's', '21' : 't', '22'\n",
    ": 'u', '23': 'v', '24' : 'w', '25' : 'x' , '26': 'y', '27' : 'z', '28' : ' '}\n",
    "print(len(dic))"
   ]
  },
  {
   "cell_type": "markdown",
   "metadata": {},
   "source": [
    "## I.2.a \n",
    "bigramenglish.txt' contient la matrice des transitions pour l’anglais (bigrams) entre deux symboles (caractères ou espaces). Le terme générique (i,j) de la matrice de transition correspond à la probabilité de transiter vers l’état j à partir de l’état i.\n",
    "A quelles probabilités correspond la première ligne de la matrice de transition ? et celles de la dernière colonne ?\n",
    "Pour chaque lettre de l’alphabet, indiquer la transition la plus fréquente depuis cette lettre"
   ]
  },
  {
   "cell_type": "code",
   "execution_count": 57,
   "metadata": {
    "scrolled": true
   },
   "outputs": [
    {
     "name": "stdout",
     "output_type": "stream",
     "text": [
      "La transition la plus fréquente depuis la lettre a est la lettre : n\n",
      "La transition la plus fréquente depuis la lettre b est la lettre : e\n",
      "La transition la plus fréquente depuis la lettre c est la lettre : o\n",
      "La transition la plus fréquente depuis la lettre d est la lettre :  \n",
      "La transition la plus fréquente depuis la lettre e est la lettre :  \n",
      "La transition la plus fréquente depuis la lettre f est la lettre :  \n",
      "La transition la plus fréquente depuis la lettre g est la lettre :  \n",
      "La transition la plus fréquente depuis la lettre h est la lettre : e\n",
      "La transition la plus fréquente depuis la lettre i est la lettre : n\n",
      "La transition la plus fréquente depuis la lettre j est la lettre : o\n",
      "La transition la plus fréquente depuis la lettre k est la lettre :  \n",
      "La transition la plus fréquente depuis la lettre l est la lettre : e\n",
      "La transition la plus fréquente depuis la lettre m est la lettre : e\n",
      "La transition la plus fréquente depuis la lettre n est la lettre :  \n",
      "La transition la plus fréquente depuis la lettre o est la lettre : n\n",
      "La transition la plus fréquente depuis la lettre p est la lettre : e\n",
      "La transition la plus fréquente depuis la lettre q est la lettre : u\n",
      "La transition la plus fréquente depuis la lettre r est la lettre : e\n",
      "La transition la plus fréquente depuis la lettre s est la lettre :  \n",
      "La transition la plus fréquente depuis la lettre t est la lettre : h\n",
      "La transition la plus fréquente depuis la lettre u est la lettre : r\n",
      "La transition la plus fréquente depuis la lettre v est la lettre : e\n",
      "La transition la plus fréquente depuis la lettre w est la lettre : a\n",
      "La transition la plus fréquente depuis la lettre x est la lettre : t\n",
      "La transition la plus fréquente depuis la lettre y est la lettre :  \n",
      "La transition la plus fréquente depuis la lettre z est la lettre : e\n"
     ]
    }
   ],
   "source": [
    "mat_english=np.array([A[i][j] for i in range(len(A)) for j in range(len(A[0]))])\n",
    "dic_inv = {c:s for s,c in dic.items()}\n",
    "#print(dic_inv)\n",
    "for j in range(1,len(A)-1):\n",
    "    indice=np.argmax(A[j])+1\n",
    "    #print(A[j])\n",
    "    #print(indice)\n",
    "    print(\"La transition la plus fréquente depuis la lettre \" +str(dic[str(j+1)]) +\" est la lettre : \" + str(dic[str(indice)]))\n",
    "\n",
    "\n",
    "\n",
    "#print(mat_english)"
   ]
  },
  {
   "cell_type": "markdown",
   "metadata": {},
   "source": [
    "La première ligne correspond au vecteur des probabilité d'avoir un caractère après un espace. Par exemple le ième terme correspond à la probabilité d'avoir la $i-1$ ième lettre de l'alphabet après un espace. \n",
    "On remarque, qu'il ne peut pas y avoir qu'un espace après un autre espace. \n",
    "La première colonne correspond à la probabilité d'avoir un espace après un autre caractère, et cela vaut toujours zéro."
   ]
  },
  {
   "cell_type": "markdown",
   "metadata": {},
   "source": [
    "## I.2.b\n"
   ]
  },
  {
   "cell_type": "raw",
   "metadata": {},
   "source": [
    "\"\"\"\n",
    "La fonction etat_suivant génère un état (à t+1) à partir de l’état courant (à t) et à l’aide de la matrice de transitions et de la fonction de répartition.\n",
    "Afficher sur un graphique la fonction de répartition \n",
    "pour une ligne de la matrice de transition et expliquer son rôle pour la génération de l’état à t+1.\n",
    "\n",
    "\"\"\""
   ]
  },
  {
   "cell_type": "code",
   "execution_count": 58,
   "metadata": {},
   "outputs": [
    {
     "data": {
      "image/png": "[encoded data removed]",
      "text/plain": [
       "<Figure size 640x480 with 1 Axes>"
      ]
     },
     "metadata": {},
     "output_type": "display_data"
    }
   ],
   "source": [
    "plt.step(range(1, 29), np.cumsum(A[2,]))\n",
    "#plt.step()\n",
    "plt.title('Fonction de repartition de etat suivant a partir de etat precedent 3 (lettre b)')\n",
    "plt.xlabel('Etat suivant')\n",
    "plt.ylabel('Probabilite') \n",
    "plt.show()"
   ]
  },
  {
   "cell_type": "code",
   "execution_count": 59,
   "metadata": {},
   "outputs": [],
   "source": [
    "def etat_suivant(ligne_matrice_trans):\n",
    "    '''\n",
    "    La fonction génère un état (à t+1) à partir de l’état courant (à t) \n",
    "    La ligne de la matrice de transitions correspond aux probabilités \n",
    "    de transiter de l etat courant vers les autres etats.\n",
    "    '''\n",
    "    f_repartition = np.cumsum(ligne_matrice_trans)\n",
    "    unif = np.random.random()\n",
    "    stat = 0\n",
    "    while(unif >= f_repartition[stat]):\n",
    "        stat = stat+1\n",
    "    return stat+1\n"
   ]
  },
  {
   "cell_type": "raw",
   "metadata": {},
   "source": [
    "Ecrire la fonction genere_state_seq \n",
    "qui génère une séquence d’états jusqu’à aboutir à l’état final (28). \n",
    "Puis ecrire une fonction display_seq qui transforme une séquence d’états \n",
    "en séquence de caractères, à l’aide d’un dictionnaire. \n",
    "Utiliser ces fonctions pour générer des mots.\n"
   ]
  },
  {
   "cell_type": "code",
   "execution_count": 60,
   "metadata": {},
   "outputs": [
    {
     "name": "stdout",
     "output_type": "stream",
     "text": [
      "[1, 21, 2, 10, 15, 5, 28]\n"
     ]
    }
   ],
   "source": [
    "def  generate_state_seq(A):\n",
    "    \n",
    "    \"\"\"\n",
    "    Calculate a sequence of states\n",
    "\n",
    "    \"\"\"  \n",
    "    numStates = len(A)\n",
    "# Generate the emitting states sequence \n",
    "    t = 0  \n",
    "    stateSeq=[]\n",
    "    etat=1\n",
    "    while(etat!=28):\n",
    "        stateSeq.append(etat)\n",
    "        etat=etat_suivant(A[etat-1])\n",
    "    stateSeq.append(etat)\n",
    "    return stateSeq\n",
    "\n",
    "print(generate_state_seq(A))\n"
   ]
  },
  {
   "cell_type": "markdown",
   "metadata": {},
   "source": [
    "def display_seq(seq):\n",
    "    str_seq = \"\"\n",
    "    .....\n",
    "    return str_seq"
   ]
  },
  {
   "cell_type": "code",
   "execution_count": 107,
   "metadata": {},
   "outputs": [
    {
     "name": "stdout",
     "output_type": "stream",
     "text": [
      "Voici 20 exemples de mots générés de cette manière : \n",
      "-on+\n",
      "-hine+\n",
      "-lit+\n",
      "-ome+\n",
      "-thefre+\n",
      "-balesl+\n",
      "-ceerkiaks+\n",
      "-wh+\n",
      "-d+\n",
      "-het+\n",
      "-oxittinin+\n",
      "-alde+\n",
      "-o+\n",
      "-asur+\n",
      "-angsthore+\n",
      "-se+\n",
      "-d+\n",
      "-eittharcoman+\n",
      "-edilitho+\n",
      "-the+\n"
     ]
    }
   ],
   "source": [
    "seq = generate_state_seq(A)\n",
    "\n",
    "def display_seq(seq):\n",
    "    letters = [dic[str(x)] for x in seq]\n",
    "    word = ''\n",
    "    for i in range(len(letters)):\n",
    "        word+=letters[i]\n",
    "    return word\n",
    "\n",
    "print(\"Voici 20 exemples de mots générés de cette manière : \")\n",
    "for _ in range(20):\n",
    "    print(display_seq(generate_state_seq(A)))\n"
   ]
  },
  {
   "cell_type": "code",
   "execution_count": 72,
   "metadata": {},
   "outputs": [
    {
     "name": "stdout",
     "output_type": "stream",
     "text": [
      " an \n",
      "1.000000004593\n"
     ]
    }
   ],
   "source": [
    "print(display_seq(seq))\n",
    "print(np.sum(A[2]))"
   ]
  },
  {
   "cell_type": "markdown",
   "metadata": {},
   "source": [
    "# I.2.c"
   ]
  },
  {
   "cell_type": "raw",
   "metadata": {},
   "source": [
    "On veut générer une suite de mots (phrase). Créer un état final de phrase (état 29, correspondant au caractère . ) dont la probabilité de transition vers cet état depuis un état final de mot est 0.1. Ecrire une fonction modifie_mat_dic qui modifie la matrice de transition et le dictionnaire en conséquence. Donner des exemples de phrases générées."
   ]
  },
  {
   "cell_type": "code",
   "execution_count": 77,
   "metadata": {},
   "outputs": [],
   "source": [
    "def modifie_mat_dic(A,dic) :\n",
    "    dic['29']='.'\n",
    "    A_mod=np.zeros((29,29))\n",
    "    for i in range(len(A)):\n",
    "        for j in range(len(A)):\n",
    "            A_mod[i][j]=A[i][j]\n",
    "    A_mod[27][28]=0.1\n",
    "    A_mod[27][0]=0.9\n",
    "    A_mod[27][27]=0.0\n",
    "    A_mod[28][28]=1.0\n",
    "    return A_mod,dic"
   ]
  },
  {
   "cell_type": "code",
   "execution_count": 78,
   "metadata": {},
   "outputs": [],
   "source": [
    "Amod,dicmod=modifie_mat_dic(A,dic)"
   ]
  },
  {
   "cell_type": "code",
   "execution_count": 79,
   "metadata": {},
   "outputs": [],
   "source": [
    "def genere_phrase(A,dic) :\n",
    "    numStates=len(dic)\n",
    "    stateSeq=[]\n",
    "    # stateSeq est une liste\n",
    "    stateSeq.append(1)  # on commence par etat 1\n",
    "    etat=1\n",
    "    while(etat!=numStates):\n",
    "        stateSeq.append(etat)\n",
    "        etat=etat_suivant(A[etat-1])\n",
    "    stateSeq.append(etat)\n",
    "    return stateSeq"
   ]
  },
  {
   "cell_type": "code",
   "execution_count": 80,
   "metadata": {},
   "outputs": [
    {
     "name": "stdout",
     "output_type": "stream",
     "text": [
      "generation de phrases  :\n",
      "  p  bof  t  wi  he  ore  go  il  sicint  ty  n  s  sfo  ris  bens  l  siglousuathelle  herathes  pre  t  s .\n",
      "  iof  sth  oss  d .\n",
      "  llert  a  tupllill  weind .\n",
      "  atise  ids  th .\n",
      "  soinenindes  by  aiventesulley  e  e  cho  wibo  y  prss  ry  by .\n"
     ]
    }
   ],
   "source": [
    "print('generation de phrases  :')\n",
    "for i in range (5) :\n",
    "    state_seq=genere_phrase(Amod,dicmod)\n",
    "    #print(state_seq)\n",
    "    \n",
    "    print(display_seq(state_seq))\n"
   ]
  },
  {
   "cell_type": "markdown",
   "metadata": {},
   "source": [
    "## I.3\n"
   ]
  },
  {
   "cell_type": "code",
   "execution_count": 82,
   "metadata": {},
   "outputs": [],
   "source": [
    "#transformer les espaces en +/- dans le dictionnaire et inversion\n",
    "dicmod['1']='-'\n",
    "dicmod['28']='+'\n",
    "dicmod['29']='.'"
   ]
  },
  {
   "cell_type": "raw",
   "metadata": {},
   "source": [
    "Charger la matrice des transitions entre caractères pour le français. Ecrire une fonction calc_vraisemblance qui calcule la vraisemblance du modèle français pour une phrase donnée en multipliant les probabilités de transition. Pour tenir compte de toutes les transitions (notamment celles entre espaces de fin et de début de mots et vers la fin de phrase) on pourra transformer une séquence « mot1 mot2.» par la séquence « -mot1+-mot2+.», les signes - , + et . représentant l’état initial de mot, l’état final de mot et l’état final de phrase, respectivement.\n"
   ]
  },
  {
   "cell_type": "code",
   "execution_count": 108,
   "metadata": {},
   "outputs": [
    {
     "name": "stdout",
     "output_type": "stream",
     "text": [
      "Pour le texte -the+, la vraisemeblance est de 0.009453926469318025\n",
      "0.009453926469318025\n"
     ]
    }
   ],
   "source": [
    "def calc_vraisemblance(string, dic, mat) : \n",
    "    dicInv = {v: k for k, v in dic.items()} \n",
    "    vraisemblance = 1.0\n",
    "    state = dicInv[string[0]]\n",
    "    seq=[dicInv[x] for x in string]\n",
    "    for i in range(1,len(seq)):\n",
    "        #print(mat[int(state)-1][int(seq[i])-1] )\n",
    "        vraisemblance*=mat[int(state)-1][int(seq[i])-1]  \n",
    "        state = seq[i] \n",
    "    print(\"Pour le texte \" + string + \", la vraisemeblance est de \" + str(vraisemblance))\n",
    "    return vraisemblance\n",
    "\n",
    "print(calc_vraisemblance('-the+',dicmod,Amod))"
   ]
  },
  {
   "cell_type": "raw",
   "metadata": {},
   "source": [
    "Calculer la vraisemblance des modèles français et anglais pour la phrase « to be or not to be ». De même calculer la vraisemblance des modèles français et anglais pour la phrase « etre ou ne pas etre »."
   ]
  },
  {
   "cell_type": "code",
   "execution_count": 105,
   "metadata": {},
   "outputs": [
    {
     "name": "stdout",
     "output_type": "stream",
     "text": [
      "Pour le dictionnaire anglais : \n",
      "Pour le mot -to+-be+-or+-not+-to+-be+., la vraisemeblance est de 8.112892227809415e-20\n",
      "Pour le mot -etre+-ou+-ne+-pas+-etre+., la vraisemeblance est de 4.462288711775253e-24\n",
      "Pour le dictionnaire français : \n",
      "Pour le mot -to+-be+-or+-not+-to+-be+., la vraisemeblance est de 5.9602081018686406e-30\n",
      "Pour le mot -etre+-ou+-ne+-pas+-etre+., la vraisemeblance est de 1.145706887234789e-19\n"
     ]
    },
    {
     "data": {
      "text/plain": [
       "1.145706887234789e-19"
      ]
     },
     "execution_count": 105,
     "metadata": {},
     "output_type": "execute_result"
    }
   ],
   "source": [
    "Fmod=modifie_mat_dic(F,dic)[0]\n",
    "sentence = \"-to+-be+-or+-not+-to+-be+.\"\n",
    "sentence2= \"-etre+-ou+-ne+-pas+-etre+.\"\n",
    "print(\"Pour le dictionnaire anglais : \")\n",
    "\n",
    "calc_vraisemblance(sentence,dicmod,Amod)\n",
    "calc_vraisemblance(sentence2,dicmod,Amod)\n",
    "\n",
    "print(\"Pour le dictionnaire français : \")\n",
    "\n",
    "calc_vraisemblance(sentence,dicmod,Fmod)\n",
    "calc_vraisemblance(sentence2,dicmod,Fmod)"
   ]
  },
  {
   "cell_type": "markdown",
   "metadata": {},
   "source": []
  }
 ],
 "metadata": {
  "kernelspec": {
   "display_name": "Python 3",
   "language": "python",
   "name": "python3"
  },
  "language_info": {
   "codemirror_mode": {
    "name": "ipython",
    "version": 3
   },
   "file_extension": ".py",
   "mimetype": "text/x-python",
   "name": "python",
   "nbconvert_exporter": "python",
   "pygments_lexer": "ipython3",
   "version": "3.11.6"
  }
 },
 "nbformat": 4,
 "nbformat_minor": 2
}
